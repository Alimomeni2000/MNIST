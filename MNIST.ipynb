{
 "cells": [
  {
   "cell_type": "code",
   "execution_count": 19,
   "id": "e3b86f54",
   "metadata": {},
   "outputs": [],
   "source": [
    "import numpy as np\n",
    "import pandas as pd\n",
    "import seaborn as sns\n",
    "from sklearn import datasets\n",
    "import matplotlib.pyplot as plt\n",
    "from sklearn.svm import SVC\n",
    "\n",
    "from  sklearn.model_selection import train_test_split\n",
    "from sklearn.neighbors import KNeighborsClassifier\n",
    "from sklearn.svm import SVC\n",
    "from sklearn.tree import DecisionTreeClassifier\n",
    "from sklearn.neighbors import KNeighborsClassifier\n",
    "from sklearn.ensemble import RandomForestClassifier,AdaBoostClassifier,GradientBoostingClassifier\n",
    "from catboost import CatBoostClassifier\n",
    "from  xgboost import XGBClassifier\n",
    "\n",
    "from sklearn.metrics import (classification_report,accuracy_score,confusion_matrix,\n",
    "                             precision_score, recall_score, f1_score)"
   ]
  },
  {
   "cell_type": "code",
   "execution_count": 2,
   "id": "ecc4971a",
   "metadata": {},
   "outputs": [],
   "source": [
    "data = datasets.load_digits()"
   ]
  },
  {
   "cell_type": "code",
   "execution_count": 3,
   "id": "4350f9e8",
   "metadata": {},
   "outputs": [
    {
     "data": {
      "text/plain": [
       "{'data': array([[ 0.,  0.,  5., ...,  0.,  0.,  0.],\n",
       "        [ 0.,  0.,  0., ..., 10.,  0.,  0.],\n",
       "        [ 0.,  0.,  0., ..., 16.,  9.,  0.],\n",
       "        ...,\n",
       "        [ 0.,  0.,  1., ...,  6.,  0.,  0.],\n",
       "        [ 0.,  0.,  2., ..., 12.,  0.,  0.],\n",
       "        [ 0.,  0., 10., ..., 12.,  1.,  0.]]),\n",
       " 'target': array([0, 1, 2, ..., 8, 9, 8]),\n",
       " 'frame': None,\n",
       " 'feature_names': ['pixel_0_0',\n",
       "  'pixel_0_1',\n",
       "  'pixel_0_2',\n",
       "  'pixel_0_3',\n",
       "  'pixel_0_4',\n",
       "  'pixel_0_5',\n",
       "  'pixel_0_6',\n",
       "  'pixel_0_7',\n",
       "  'pixel_1_0',\n",
       "  'pixel_1_1',\n",
       "  'pixel_1_2',\n",
       "  'pixel_1_3',\n",
       "  'pixel_1_4',\n",
       "  'pixel_1_5',\n",
       "  'pixel_1_6',\n",
       "  'pixel_1_7',\n",
       "  'pixel_2_0',\n",
       "  'pixel_2_1',\n",
       "  'pixel_2_2',\n",
       "  'pixel_2_3',\n",
       "  'pixel_2_4',\n",
       "  'pixel_2_5',\n",
       "  'pixel_2_6',\n",
       "  'pixel_2_7',\n",
       "  'pixel_3_0',\n",
       "  'pixel_3_1',\n",
       "  'pixel_3_2',\n",
       "  'pixel_3_3',\n",
       "  'pixel_3_4',\n",
       "  'pixel_3_5',\n",
       "  'pixel_3_6',\n",
       "  'pixel_3_7',\n",
       "  'pixel_4_0',\n",
       "  'pixel_4_1',\n",
       "  'pixel_4_2',\n",
       "  'pixel_4_3',\n",
       "  'pixel_4_4',\n",
       "  'pixel_4_5',\n",
       "  'pixel_4_6',\n",
       "  'pixel_4_7',\n",
       "  'pixel_5_0',\n",
       "  'pixel_5_1',\n",
       "  'pixel_5_2',\n",
       "  'pixel_5_3',\n",
       "  'pixel_5_4',\n",
       "  'pixel_5_5',\n",
       "  'pixel_5_6',\n",
       "  'pixel_5_7',\n",
       "  'pixel_6_0',\n",
       "  'pixel_6_1',\n",
       "  'pixel_6_2',\n",
       "  'pixel_6_3',\n",
       "  'pixel_6_4',\n",
       "  'pixel_6_5',\n",
       "  'pixel_6_6',\n",
       "  'pixel_6_7',\n",
       "  'pixel_7_0',\n",
       "  'pixel_7_1',\n",
       "  'pixel_7_2',\n",
       "  'pixel_7_3',\n",
       "  'pixel_7_4',\n",
       "  'pixel_7_5',\n",
       "  'pixel_7_6',\n",
       "  'pixel_7_7'],\n",
       " 'target_names': array([0, 1, 2, 3, 4, 5, 6, 7, 8, 9]),\n",
       " 'images': array([[[ 0.,  0.,  5., ...,  1.,  0.,  0.],\n",
       "         [ 0.,  0., 13., ..., 15.,  5.,  0.],\n",
       "         [ 0.,  3., 15., ..., 11.,  8.,  0.],\n",
       "         ...,\n",
       "         [ 0.,  4., 11., ..., 12.,  7.,  0.],\n",
       "         [ 0.,  2., 14., ..., 12.,  0.,  0.],\n",
       "         [ 0.,  0.,  6., ...,  0.,  0.,  0.]],\n",
       " \n",
       "        [[ 0.,  0.,  0., ...,  5.,  0.,  0.],\n",
       "         [ 0.,  0.,  0., ...,  9.,  0.,  0.],\n",
       "         [ 0.,  0.,  3., ...,  6.,  0.,  0.],\n",
       "         ...,\n",
       "         [ 0.,  0.,  1., ...,  6.,  0.,  0.],\n",
       "         [ 0.,  0.,  1., ...,  6.,  0.,  0.],\n",
       "         [ 0.,  0.,  0., ..., 10.,  0.,  0.]],\n",
       " \n",
       "        [[ 0.,  0.,  0., ..., 12.,  0.,  0.],\n",
       "         [ 0.,  0.,  3., ..., 14.,  0.,  0.],\n",
       "         [ 0.,  0.,  8., ..., 16.,  0.,  0.],\n",
       "         ...,\n",
       "         [ 0.,  9., 16., ...,  0.,  0.,  0.],\n",
       "         [ 0.,  3., 13., ..., 11.,  5.,  0.],\n",
       "         [ 0.,  0.,  0., ..., 16.,  9.,  0.]],\n",
       " \n",
       "        ...,\n",
       " \n",
       "        [[ 0.,  0.,  1., ...,  1.,  0.,  0.],\n",
       "         [ 0.,  0., 13., ...,  2.,  1.,  0.],\n",
       "         [ 0.,  0., 16., ..., 16.,  5.,  0.],\n",
       "         ...,\n",
       "         [ 0.,  0., 16., ..., 15.,  0.,  0.],\n",
       "         [ 0.,  0., 15., ..., 16.,  0.,  0.],\n",
       "         [ 0.,  0.,  2., ...,  6.,  0.,  0.]],\n",
       " \n",
       "        [[ 0.,  0.,  2., ...,  0.,  0.,  0.],\n",
       "         [ 0.,  0., 14., ..., 15.,  1.,  0.],\n",
       "         [ 0.,  4., 16., ..., 16.,  7.,  0.],\n",
       "         ...,\n",
       "         [ 0.,  0.,  0., ..., 16.,  2.,  0.],\n",
       "         [ 0.,  0.,  4., ..., 16.,  2.,  0.],\n",
       "         [ 0.,  0.,  5., ..., 12.,  0.,  0.]],\n",
       " \n",
       "        [[ 0.,  0., 10., ...,  1.,  0.,  0.],\n",
       "         [ 0.,  2., 16., ...,  1.,  0.,  0.],\n",
       "         [ 0.,  0., 15., ..., 15.,  0.,  0.],\n",
       "         ...,\n",
       "         [ 0.,  4., 16., ..., 16.,  6.,  0.],\n",
       "         [ 0.,  8., 16., ..., 16.,  8.,  0.],\n",
       "         [ 0.,  1.,  8., ..., 12.,  1.,  0.]]]),\n",
       " 'DESCR': \".. _digits_dataset:\\n\\nOptical recognition of handwritten digits dataset\\n--------------------------------------------------\\n\\n**Data Set Characteristics:**\\n\\n    :Number of Instances: 1797\\n    :Number of Attributes: 64\\n    :Attribute Information: 8x8 image of integer pixels in the range 0..16.\\n    :Missing Attribute Values: None\\n    :Creator: E. Alpaydin (alpaydin '@' boun.edu.tr)\\n    :Date: July; 1998\\n\\nThis is a copy of the test set of the UCI ML hand-written digits datasets\\nhttps://archive.ics.uci.edu/ml/datasets/Optical+Recognition+of+Handwritten+Digits\\n\\nThe data set contains images of hand-written digits: 10 classes where\\neach class refers to a digit.\\n\\nPreprocessing programs made available by NIST were used to extract\\nnormalized bitmaps of handwritten digits from a preprinted form. From a\\ntotal of 43 people, 30 contributed to the training set and different 13\\nto the test set. 32x32 bitmaps are divided into nonoverlapping blocks of\\n4x4 and the number of on pixels are counted in each block. This generates\\nan input matrix of 8x8 where each element is an integer in the range\\n0..16. This reduces dimensionality and gives invariance to small\\ndistortions.\\n\\nFor info on NIST preprocessing routines, see M. D. Garris, J. L. Blue, G.\\nT. Candela, D. L. Dimmick, J. Geist, P. J. Grother, S. A. Janet, and C.\\nL. Wilson, NIST Form-Based Handprint Recognition System, NISTIR 5469,\\n1994.\\n\\n.. topic:: References\\n\\n  - C. Kaynak (1995) Methods of Combining Multiple Classifiers and Their\\n    Applications to Handwritten Digit Recognition, MSc Thesis, Institute of\\n    Graduate Studies in Science and Engineering, Bogazici University.\\n  - E. Alpaydin, C. Kaynak (1998) Cascading Classifiers, Kybernetika.\\n  - Ken Tang and Ponnuthurai N. Suganthan and Xi Yao and A. Kai Qin.\\n    Linear dimensionalityreduction using relevance weighted LDA. School of\\n    Electrical and Electronic Engineering Nanyang Technological University.\\n    2005.\\n  - Claudio Gentile. A New Approximate Maximal Margin Classification\\n    Algorithm. NIPS. 2000.\\n\"}"
      ]
     },
     "execution_count": 3,
     "metadata": {},
     "output_type": "execute_result"
    }
   ],
   "source": [
    "data"
   ]
  },
  {
   "cell_type": "code",
   "execution_count": 24,
   "id": "a86144c9",
   "metadata": {},
   "outputs": [
    {
     "data": {
      "text/plain": [
       "Text(0.5, 1.0, 'Target Distribution')"
      ]
     },
     "execution_count": 24,
     "metadata": {},
     "output_type": "execute_result"
    },
    {
     "data": {
      "image/png": "[encoded data removed]",
      "text/plain": [
       "<Figure size 432x288 with 1 Axes>"
      ]
     },
     "metadata": {
      "needs_background": "light"
     },
     "output_type": "display_data"
    }
   ],
   "source": [
    "plot = sns.countplot(x ='target', data = data)\n",
    "plot.axes.set_title(\"Target Distribution\",fontsize=15)"
   ]
  },
  {
   "cell_type": "code",
   "execution_count": 29,
   "id": "142e4a37",
   "metadata": {},
   "outputs": [
    {
     "data": {
      "text/plain": [
       "Text(0.5, 1.0, 'Fake Class')"
      ]
     },
     "execution_count": 29,
     "metadata": {},
     "output_type": "execute_result"
    },
    {
     "data": {
      "image/png": "[encoded data removed]",
      "text/plain": [
       "<Figure size 432x288 with 1 Axes>"
      ]
     },
     "metadata": {
      "needs_background": "light"
     },
     "output_type": "display_data"
    }
   ],
   "source": [
    "# plot = sns.countplot(x ='target', data = data)\n",
    "plot = sns.boxplot(x='target',  data=data)\n",
    "\n",
    "plot.axes.set_title(\"Fake Class\",fontsize=20)"
   ]
  },
  {
   "cell_type": "code",
   "execution_count": 4,
   "id": "4bc9e142",
   "metadata": {},
   "outputs": [
    {
     "data": {
      "text/plain": [
       "<matplotlib.image.AxesImage at 0x7f592435ea60>"
      ]
     },
     "execution_count": 4,
     "metadata": {},
     "output_type": "execute_result"
    },
    {
     "data": {
      "image/png": "[encoded data removed]",
      "text/plain": [
       "<Figure size 432x288 with 1 Axes>"
      ]
     },
     "metadata": {
      "needs_background": "light"
     },
     "output_type": "display_data"
    }
   ],
   "source": [
    "plt.subplot()\n",
    "plt.imshow(data.images[2], cmap=plt.cm.gray_r)"
   ]
  },
  {
   "cell_type": "code",
   "execution_count": 5,
   "id": "072fc252",
   "metadata": {},
   "outputs": [
    {
     "data": {
      "text/plain": [
       "(array([[ 0.,  0.,  5., 13.,  9.,  1.,  0.,  0.],\n",
       "        [ 0.,  0., 13., 15., 10., 15.,  5.,  0.],\n",
       "        [ 0.,  3., 15.,  2.,  0., 11.,  8.,  0.],\n",
       "        [ 0.,  4., 12.,  0.,  0.,  8.,  8.,  0.],\n",
       "        [ 0.,  5.,  8.,  0.,  0.,  9.,  8.,  0.],\n",
       "        [ 0.,  4., 11.,  0.,  1., 12.,  7.,  0.],\n",
       "        [ 0.,  2., 14.,  5., 10., 12.,  0.,  0.],\n",
       "        [ 0.,  0.,  6., 13., 10.,  0.,  0.,  0.]]),\n",
       " 0)"
      ]
     },
     "execution_count": 5,
     "metadata": {},
     "output_type": "execute_result"
    }
   ],
   "source": [
    "images_and_labels = list(zip(data.images, data.target))\n",
    "images_and_labels[0]"
   ]
  },
  {
   "cell_type": "code",
   "execution_count": 6,
   "id": "e2c9d76c",
   "metadata": {},
   "outputs": [
    {
     "data": {
      "image/png": "[encoded data removed]",
      "text/plain": [
       "<Figure size 432x288 with 4 Axes>"
      ]
     },
     "metadata": {
      "needs_background": "light"
     },
     "output_type": "display_data"
    }
   ],
   "source": [
    "for i,(image,label) in enumerate(images_and_labels[:4]):\n",
    "    plt.subplot(2,4,i+1)\n",
    "    plt.imshow(image, cmap=plt.cm.gray_r)\n",
    "    plt.title(label)"
   ]
  },
  {
   "cell_type": "code",
   "execution_count": 7,
   "id": "f38f1720",
   "metadata": {},
   "outputs": [
    {
     "data": {
      "text/plain": [
       "(1797, 8, 8)"
      ]
     },
     "execution_count": 7,
     "metadata": {},
     "output_type": "execute_result"
    }
   ],
   "source": [
    "np.shape(data.images)"
   ]
  },
  {
   "cell_type": "code",
   "execution_count": 8,
   "id": "3e31e5e4",
   "metadata": {},
   "outputs": [],
   "source": [
    "y = data.target\n",
    "X = data.images.reshape((len(data.images),-1))"
   ]
  },
  {
   "cell_type": "code",
   "execution_count": 9,
   "id": "fe556466",
   "metadata": {},
   "outputs": [],
   "source": [
    "X_train, X_test, y_train, y_test = train_test_split(X,y, random_state=2022)"
   ]
  },
  {
   "cell_type": "code",
   "execution_count": 10,
   "id": "aa198dec",
   "metadata": {},
   "outputs": [],
   "source": [
    "svc = SVC()\n",
    "dtc = DecisionTreeClassifier()\n",
    "knnc = KNeighborsClassifier(n_neighbors=15,n_jobs=-1)\n",
    "rfc = RandomForestClassifier(n_jobs=-1,n_estimators=60000,\n",
    "                             max_depth=16,min_samples_split= 2)\n",
    "abc = AdaBoostClassifier(learning_rate=.85,n_estimators=3000,)\n",
    "cbc = CatBoostClassifier(learning_rate=.1,depth=12,verbose=100)\n",
    "gbc = GradientBoostingClassifier(learning_rate= 0.8, max_depth= 15, max_features= 8, min_samples_split= 8)\n",
    "xg_reg  =XGBClassifier(max_depth=15,min_child_weight= 1,gamma= 0.5, learning_rate= 0.2,n_jobs=-1)\n",
    "class_list=[cbc,svc,dtc,knnc,rfc,abc,gbc,xg_reg]\n",
    "# class_list=[rfc]"
   ]
  },
  {
   "cell_type": "code",
   "execution_count": 11,
   "id": "bd8bc330",
   "metadata": {},
   "outputs": [
    {
     "name": "stdout",
     "output_type": "stream",
     "text": [
      "0:\tlearn: 2.1741697\ttotal: 349ms\tremaining: 5m 48s\n",
      "100:\tlearn: 0.1521548\ttotal: 27.2s\tremaining: 4m 1s\n",
      "200:\tlearn: 0.0591851\ttotal: 57.7s\tremaining: 3m 49s\n",
      "300:\tlearn: 0.0346248\ttotal: 1m 31s\tremaining: 3m 33s\n",
      "400:\tlearn: 0.0243148\ttotal: 2m 6s\tremaining: 3m 8s\n",
      "500:\tlearn: 0.0185035\ttotal: 2m 38s\tremaining: 2m 37s\n",
      "600:\tlearn: 0.0148564\ttotal: 3m 10s\tremaining: 2m 6s\n",
      "700:\tlearn: 0.0124114\ttotal: 3m 47s\tremaining: 1m 37s\n",
      "800:\tlearn: 0.0106019\ttotal: 4m 22s\tremaining: 1m 5s\n",
      "900:\tlearn: 0.0092813\ttotal: 4m 54s\tremaining: 32.4s\n",
      "999:\tlearn: 0.0082570\ttotal: 5m 26s\tremaining: 0us\n",
      "Fitting 1 done\n",
      "Fitting 2 done\n",
      "Fitting 3 done\n",
      "Fitting 4 done\n",
      "Fitting 5 done\n",
      "Fitting 6 done\n",
      "Fitting 7 done\n",
      "Fitting 8 done\n",
      "CPU times: user 39min 47s, sys: 58.9 s, total: 40min 45s\n",
      "Wall time: 9min 33s\n"
     ]
    }
   ],
   "source": [
    "%%time\n",
    "\n",
    "counter=1\n",
    "for reg in class_list:\n",
    "    reg.fit(X_train,y_train)\n",
    "    print(f\"Fitting {counter} done\")\n",
    "    counter+=1"
   ]
  },
  {
   "cell_type": "code",
   "execution_count": 12,
   "id": "8d16c149",
   "metadata": {},
   "outputs": [
    {
     "name": "stdout",
     "output_type": "stream",
     "text": [
      "--------------------------------------------------\n",
      "CatBoostClassifier\n",
      "accuracy score : 0.9733333333333334\n",
      "classification report :               precision    recall  f1-score   support\n",
      "\n",
      "           0       1.00      1.00      1.00        45\n",
      "           1       0.94      0.98      0.96        49\n",
      "           2       1.00      1.00      1.00        41\n",
      "           3       1.00      0.96      0.98        46\n",
      "           4       1.00      1.00      1.00        47\n",
      "           5       0.98      0.94      0.96        54\n",
      "           6       0.98      0.98      0.98        45\n",
      "           7       0.95      1.00      0.98        42\n",
      "           8       0.93      0.95      0.94        40\n",
      "           9       0.95      0.93      0.94        41\n",
      "\n",
      "    accuracy                           0.97       450\n",
      "   macro avg       0.97      0.97      0.97       450\n",
      "weighted avg       0.97      0.97      0.97       450\n",
      "\n",
      "--------------------------------------------------\n",
      "SVC\n",
      "accuracy score : 0.98\n",
      "classification report :               precision    recall  f1-score   support\n",
      "\n",
      "           0       1.00      1.00      1.00        45\n",
      "           1       0.98      1.00      0.99        49\n",
      "           2       1.00      1.00      1.00        41\n",
      "           3       1.00      0.93      0.97        46\n",
      "           4       1.00      1.00      1.00        47\n",
      "           5       0.98      0.94      0.96        54\n",
      "           6       0.98      1.00      0.99        45\n",
      "           7       0.95      1.00      0.98        42\n",
      "           8       0.95      0.97      0.96        40\n",
      "           9       0.95      0.95      0.95        41\n",
      "\n",
      "    accuracy                           0.98       450\n",
      "   macro avg       0.98      0.98      0.98       450\n",
      "weighted avg       0.98      0.98      0.98       450\n",
      "\n",
      "--------------------------------------------------\n",
      "DecisionTreeClassifier\n",
      "accuracy score : 0.8444444444444444\n",
      "classification report :               precision    recall  f1-score   support\n",
      "\n",
      "           0       0.98      0.91      0.94        45\n",
      "           1       0.80      0.76      0.78        49\n",
      "           2       0.82      0.88      0.85        41\n",
      "           3       0.79      0.72      0.75        46\n",
      "           4       0.90      0.91      0.91        47\n",
      "           5       0.86      0.89      0.87        54\n",
      "           6       0.91      0.89      0.90        45\n",
      "           7       0.88      0.88      0.88        42\n",
      "           8       0.82      0.80      0.81        40\n",
      "           9       0.70      0.80      0.75        41\n",
      "\n",
      "    accuracy                           0.84       450\n",
      "   macro avg       0.85      0.84      0.84       450\n",
      "weighted avg       0.85      0.84      0.84       450\n",
      "\n",
      "--------------------------------------------------\n",
      "KNeighborsClassifier\n",
      "accuracy score : 0.9711111111111111\n",
      "classification report :               precision    recall  f1-score   support\n",
      "\n",
      "           0       1.00      1.00      1.00        45\n",
      "           1       0.96      1.00      0.98        49\n",
      "           2       1.00      0.98      0.99        41\n",
      "           3       0.98      0.98      0.98        46\n",
      "           4       1.00      1.00      1.00        47\n",
      "           5       1.00      0.94      0.97        54\n",
      "           6       0.96      0.98      0.97        45\n",
      "           7       0.89      1.00      0.94        42\n",
      "           8       0.97      0.95      0.96        40\n",
      "           9       0.95      0.88      0.91        41\n",
      "\n",
      "    accuracy                           0.97       450\n",
      "   macro avg       0.97      0.97      0.97       450\n",
      "weighted avg       0.97      0.97      0.97       450\n",
      "\n",
      "--------------------------------------------------\n",
      "RandomForestClassifier\n",
      "accuracy score : 0.98\n",
      "classification report :               precision    recall  f1-score   support\n",
      "\n",
      "           0       1.00      1.00      1.00        45\n",
      "           1       0.98      1.00      0.99        49\n",
      "           2       1.00      1.00      1.00        41\n",
      "           3       0.98      0.96      0.97        46\n",
      "           4       1.00      1.00      1.00        47\n",
      "           5       0.98      0.94      0.96        54\n",
      "           6       0.98      0.98      0.98        45\n",
      "           7       0.95      1.00      0.98        42\n",
      "           8       0.95      0.97      0.96        40\n",
      "           9       0.97      0.95      0.96        41\n",
      "\n",
      "    accuracy                           0.98       450\n",
      "   macro avg       0.98      0.98      0.98       450\n",
      "weighted avg       0.98      0.98      0.98       450\n",
      "\n",
      "--------------------------------------------------\n",
      "AdaBoostClassifier\n",
      "accuracy score : 0.8688888888888889\n",
      "classification report :               precision    recall  f1-score   support\n",
      "\n",
      "           0       1.00      0.98      0.99        45\n",
      "           1       1.00      0.59      0.74        49\n",
      "           2       1.00      0.80      0.89        41\n",
      "           3       0.91      0.87      0.89        46\n",
      "           4       0.98      0.89      0.93        47\n",
      "           5       0.96      0.85      0.90        54\n",
      "           6       1.00      0.96      0.98        45\n",
      "           7       0.89      0.95      0.92        42\n",
      "           8       0.53      1.00      0.70        40\n",
      "           9       0.74      0.83      0.78        41\n",
      "\n",
      "    accuracy                           0.87       450\n",
      "   macro avg       0.90      0.87      0.87       450\n",
      "weighted avg       0.91      0.87      0.87       450\n",
      "\n",
      "--------------------------------------------------\n",
      "GradientBoostingClassifier\n",
      "accuracy score : 0.9488888888888889\n",
      "classification report :               precision    recall  f1-score   support\n",
      "\n",
      "           0       0.98      0.98      0.98        45\n",
      "           1       0.94      0.96      0.95        49\n",
      "           2       0.93      0.95      0.94        41\n",
      "           3       1.00      0.93      0.97        46\n",
      "           4       0.98      0.94      0.96        47\n",
      "           5       0.98      0.96      0.97        54\n",
      "           6       1.00      0.93      0.97        45\n",
      "           7       0.93      0.98      0.95        42\n",
      "           8       0.82      0.93      0.87        40\n",
      "           9       0.93      0.93      0.93        41\n",
      "\n",
      "    accuracy                           0.95       450\n",
      "   macro avg       0.95      0.95      0.95       450\n",
      "weighted avg       0.95      0.95      0.95       450\n",
      "\n",
      "--------------------------------------------------\n",
      "XGBClassifier\n",
      "accuracy score : 0.94\n",
      "classification report :               precision    recall  f1-score   support\n",
      "\n",
      "           0       1.00      0.96      0.98        45\n",
      "           1       0.94      0.90      0.92        49\n",
      "           2       1.00      1.00      1.00        41\n",
      "           3       0.95      0.85      0.90        46\n",
      "           4       1.00      0.96      0.98        47\n",
      "           5       0.91      0.94      0.93        54\n",
      "           6       0.98      0.98      0.98        45\n",
      "           7       0.87      0.98      0.92        42\n",
      "           8       0.93      0.95      0.94        40\n",
      "           9       0.84      0.90      0.87        41\n",
      "\n",
      "    accuracy                           0.94       450\n",
      "   macro avg       0.94      0.94      0.94       450\n",
      "weighted avg       0.94      0.94      0.94       450\n",
      "\n",
      "CPU times: user 33.3 s, sys: 5.86 s, total: 39.1 s\n",
      "Wall time: 28.7 s\n"
     ]
    }
   ],
   "source": [
    "%%time\n",
    "score_dict={}\n",
    "\n",
    "for reg in class_list:\n",
    "    \n",
    "    reg_name = reg.__class__.__name__\n",
    "    \n",
    "    pred=reg.predict(X_test)\n",
    "    \n",
    "    print(\"-\"*50)\n",
    "    \n",
    "    print(reg_name)\n",
    "  \n",
    "    print(f\"accuracy score : {accuracy_score(y_test,pred)}\")\n",
    "    print(f\"classification report : {classification_report(y_test,pred)}\")\n",
    "\n",
    "\n",
    "    score_dict[reg_name]={\n",
    "        \"accuracy score\":accuracy_score(y_test,pred),\n",
    "        \"classification report\" :classification_report(y_test,pred),\n",
    "\n",
    "    }"
   ]
  },
  {
   "cell_type": "code",
   "execution_count": 13,
   "id": "d6b68354",
   "metadata": {
    "scrolled": true
   },
   "outputs": [
    {
     "data": {
      "text/html": [
       "<div>\n",
       "<style scoped>\n",
       "    .dataframe tbody tr th:only-of-type {\n",
       "        vertical-align: middle;\n",
       "    }\n",
       "\n",
       "    .dataframe tbody tr th {\n",
       "        vertical-align: top;\n",
       "    }\n",
       "\n",
       "    .dataframe thead th {\n",
       "        text-align: right;\n",
       "    }\n",
       "</style>\n",
       "<table border=\"1\" class=\"dataframe\">\n",
       "  <thead>\n",
       "    <tr style=\"text-align: right;\">\n",
       "      <th></th>\n",
       "      <th>accuracy score</th>\n",
       "      <th>classification report</th>\n",
       "    </tr>\n",
       "  </thead>\n",
       "  <tbody>\n",
       "    <tr>\n",
       "      <th>SVC</th>\n",
       "      <td>0.98</td>\n",
       "      <td>precision    recall  f1-score   ...</td>\n",
       "    </tr>\n",
       "    <tr>\n",
       "      <th>RandomForestClassifier</th>\n",
       "      <td>0.98</td>\n",
       "      <td>precision    recall  f1-score   ...</td>\n",
       "    </tr>\n",
       "    <tr>\n",
       "      <th>CatBoostClassifier</th>\n",
       "      <td>0.973333</td>\n",
       "      <td>precision    recall  f1-score   ...</td>\n",
       "    </tr>\n",
       "    <tr>\n",
       "      <th>KNeighborsClassifier</th>\n",
       "      <td>0.971111</td>\n",
       "      <td>precision    recall  f1-score   ...</td>\n",
       "    </tr>\n",
       "    <tr>\n",
       "      <th>GradientBoostingClassifier</th>\n",
       "      <td>0.948889</td>\n",
       "      <td>precision    recall  f1-score   ...</td>\n",
       "    </tr>\n",
       "    <tr>\n",
       "      <th>XGBClassifier</th>\n",
       "      <td>0.94</td>\n",
       "      <td>precision    recall  f1-score   ...</td>\n",
       "    </tr>\n",
       "    <tr>\n",
       "      <th>AdaBoostClassifier</th>\n",
       "      <td>0.868889</td>\n",
       "      <td>precision    recall  f1-score   ...</td>\n",
       "    </tr>\n",
       "    <tr>\n",
       "      <th>DecisionTreeClassifier</th>\n",
       "      <td>0.844444</td>\n",
       "      <td>precision    recall  f1-score   ...</td>\n",
       "    </tr>\n",
       "  </tbody>\n",
       "</table>\n",
       "</div>"
      ],
      "text/plain": [
       "                           accuracy score  \\\n",
       "SVC                                  0.98   \n",
       "RandomForestClassifier               0.98   \n",
       "CatBoostClassifier               0.973333   \n",
       "KNeighborsClassifier             0.971111   \n",
       "GradientBoostingClassifier       0.948889   \n",
       "XGBClassifier                        0.94   \n",
       "AdaBoostClassifier               0.868889   \n",
       "DecisionTreeClassifier           0.844444   \n",
       "\n",
       "                                                        classification report  \n",
       "SVC                                       precision    recall  f1-score   ...  \n",
       "RandomForestClassifier                    precision    recall  f1-score   ...  \n",
       "CatBoostClassifier                        precision    recall  f1-score   ...  \n",
       "KNeighborsClassifier                      precision    recall  f1-score   ...  \n",
       "GradientBoostingClassifier                precision    recall  f1-score   ...  \n",
       "XGBClassifier                             precision    recall  f1-score   ...  \n",
       "AdaBoostClassifier                        precision    recall  f1-score   ...  \n",
       "DecisionTreeClassifier                    precision    recall  f1-score   ...  "
      ]
     },
     "execution_count": 13,
     "metadata": {},
     "output_type": "execute_result"
    }
   ],
   "source": [
    "score_pd=pd.DataFrame(score_dict).transpose().sort_values(\"accuracy score\" ,ascending=False)\n",
    "score_pd"
   ]
  }
 ],
 "metadata": {
  "kernelspec": {
   "display_name": "Python 3 (ipykernel)",
   "language": "python",
   "name": "python3"
  },
  "language_info": {
   "codemirror_mode": {
    "name": "ipython",
    "version": 3
   },
   "file_extension": ".py",
   "mimetype": "text/x-python",
   "name": "python",
   "nbconvert_exporter": "python",
   "pygments_lexer": "ipython3",
   "version": "3.9.12"
  }
 },
 "nbformat": 4,
 "nbformat_minor": 5
}
